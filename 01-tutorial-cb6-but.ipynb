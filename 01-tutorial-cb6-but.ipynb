{
 "cells": [
  {
   "cell_type": "markdown",
   "metadata": {},
   "source": [
    "# pAPRika tutorial 1\n",
    "\n",
    "In this example, we will setup and simulate butane (BUT) as a guest molecule for the host [curburbit[6]uril](https://en.wikipedia.org/wiki/Cucurbituril) (CB6). CBs are rigid, symmetric, cyclic host molecules with oxygen atoms around the portal edge of the cavity. We will run the simulation in implicit solvent, using the [Generalized-Born](https://en.wikipedia.org/wiki/Implicit_solvation#Generalized_Born) model, for speed and simplicity, using AMBER. This tutorial assumes familiarity with basic MD procedures."
   ]
  },
  {
   "cell_type": "markdown",
   "metadata": {},
   "source": [
    "## Initial Setup\n",
    "\n",
    "The very first step in the calculation is creating a coordinate file for the bound host-guest complex (we usually use PDB format for this part because it works well with `tleap`). This does not have to perfectly match the bound state by any means (we will later minimize and equilibrate), but this should be a reasonable illustration of the bound complex. This file can be created by hand (in a program like Chimera, VMD, or PyMOL) or by docking the guest into the host cavity (with MOE, AutoDock, DOCK, ...).\n",
    "\n",
    "In this example, this file is called `cb6-but.pdb`, in the `complex/` directory, and this is what it looks like."
   ]
  },
  {
   "cell_type": "markdown",
   "metadata": {},
   "source": [
    "![](images/cb6-but.png)"
   ]
  },
  {
   "cell_type": "markdown",
   "metadata": {},
   "source": [
    "In addition to the coordinate file, we need separate `mol2` files for the host and guest molecule that contain the partial atomic charges. For cyclic hosts like CB6, you can specify either a single residue for the entire molecule (this is what we do here) or you can provide coordinates and charges for a single monomer and have `tleap` build the structure (this is a little more tricky).\n",
    "\n",
    "The `mol2` files that we use here (`cb6.mol2` and `but.mol2`) were created by running `antechamber -fi pdb -fo mol2 -i <pdb> -o <mol2> -c bcc` (I added `pl 10` for the host, which reduces the number of paths that `antechamber` takes to traverse the host; see `antechamber` help for more information)."
   ]
  },
  {
   "cell_type": "markdown",
   "metadata": {},
   "source": [
    "### Create AMBER coordinate (`.rst7` or `.inpcrd`) and parameter files (`.prmtop` or `.topo`) for the host-guest complex\n",
    "\n",
    "In this example, we will use GAFF parameters for both the host and guest. For the host, `parmchk2` has identified two parameters that are missing from GAFF and added the most similar ones into the supplementary `cb6.frcmod` file."
   ]
  },
  {
   "cell_type": "code",
   "execution_count": 91,
   "metadata": {},
   "outputs": [],
   "source": [
    "from paprika import tleap"
   ]
  },
  {
   "cell_type": "code",
   "execution_count": 92,
   "metadata": {},
   "outputs": [],
   "source": [
    "system = tleap.System()\n",
    "system.output_path = \"complex\"\n",
    "system.pbc_type = None\n",
    "system.neutralize = False\n",
    "\n",
    "system.template_lines = [\n",
    "\"source leaprc.gaff\",\n",
    "\"loadamberparams cb6.frcmod\",\n",
    "\"CB6 = loadmol2 cb6.mol2\",\n",
    "\"BUT = loadmol2 but.mol2\",\n",
    "\"model = loadpdb cb6-but.pdb\",\n",
    "\"check model\",\n",
    "\"savepdb model vac.pdb\",\n",
    "\"saveamberparm model vac.prmtop vac.rst7\"\n",
    "]\n",
    "\n",
    "system.build()"
   ]
  },
  {
   "cell_type": "markdown",
   "metadata": {},
   "source": [
    "After running `tleap`, it is always a good idea to check `leap.log`. `pAPRika` does some automated checking of the ouptut, but sometimes things slip through. (By default, `tleap` will append to `leap.log`.)"
   ]
  },
  {
   "cell_type": "markdown",
   "metadata": {},
   "source": [
    "## Prepare the complex for an APR calculation\n",
    "\n",
    "Now we are ready to prepare the complex for the attach-pull-release calculation. This involves:\n",
    "\n",
    "- Aligning the structure so the guest can be pulled along the $z$ axis, and\n",
    "- Adding dummy atoms that are used to orient the host and guest.\n",
    "\n",
    "To access the host-guest structure in Python, we use the ParmEd `Structure` class. So we start by loading the vacuum model that we just created. Then, we need to define two atoms on the guest that are placed along the $z$ axis. These should be heavy atoms on either end of the guest, the second atom leading the pulling.\n",
    "\n",
    "These same atoms will be used later for the restraints, so I will name them `G1` and `G2`, using AMBER selection syntax."
   ]
  },
  {
   "cell_type": "markdown",
   "metadata": {},
   "source": [
    "### Align the pulling axis"
   ]
  },
  {
   "cell_type": "code",
   "execution_count": 93,
   "metadata": {},
   "outputs": [],
   "source": [
    "import parmed as pmd"
   ]
  },
  {
   "cell_type": "code",
   "execution_count": 94,
   "metadata": {},
   "outputs": [
    {
     "name": "stdout",
     "output_type": "stream",
     "text": [
      "Using the slow `prmtop` reader! -DRS\n"
     ]
    }
   ],
   "source": [
    "structure = pmd.load_file(\"complex/vac.prmtop\",\n",
    "                          \"complex/vac.rst7\",\n",
    "                          structure=True)"
   ]
  },
  {
   "cell_type": "code",
   "execution_count": 95,
   "metadata": {},
   "outputs": [],
   "source": [
    "from paprika import align"
   ]
  },
  {
   "cell_type": "code",
   "execution_count": 96,
   "metadata": {},
   "outputs": [],
   "source": [
    "G1 = \":BUT@C\"\n",
    "G2 = \":BUT@C3\""
   ]
  },
  {
   "cell_type": "code",
   "execution_count": 97,
   "metadata": {},
   "outputs": [
    {
     "name": "stderr",
     "output_type": "stream",
     "text": [
      "/home/dslochower/data/applications/anaconda3/lib/python3.6/site-packages/paprika/align.py:31: RuntimeWarning: invalid value encountered in true_divide\n",
      "  x     = np.cross(mask2_com, axis) / np.linalg.norm(np.cross(mask2_com, axis))\n"
     ]
    },
    {
     "ename": "OSError",
     "evalue": "complex/aligned.prmtop exists; not overwriting",
     "output_type": "error",
     "traceback": [
      "\u001b[0;31m---------------------------------------------------------------------------\u001b[0m",
      "\u001b[0;31mOSError\u001b[0m                                   Traceback (most recent call last)",
      "\u001b[0;32m<ipython-input-97-e001b49cb41f>\u001b[0m in \u001b[0;36m<module>\u001b[0;34m()\u001b[0m\n\u001b[1;32m      1\u001b[0m \u001b[0maligned_structure\u001b[0m \u001b[0;34m=\u001b[0m \u001b[0malign\u001b[0m\u001b[0;34m.\u001b[0m\u001b[0mzalign\u001b[0m\u001b[0;34m(\u001b[0m\u001b[0mstructure\u001b[0m\u001b[0;34m,\u001b[0m \u001b[0mG1\u001b[0m\u001b[0;34m,\u001b[0m \u001b[0mG2\u001b[0m\u001b[0;34m)\u001b[0m\u001b[0;34m\u001b[0m\u001b[0m\n\u001b[0;32m----> 2\u001b[0;31m \u001b[0maligned_structure\u001b[0m\u001b[0;34m.\u001b[0m\u001b[0msave\u001b[0m\u001b[0;34m(\u001b[0m\u001b[0;34m\"complex/aligned.prmtop\"\u001b[0m\u001b[0;34m)\u001b[0m\u001b[0;34m\u001b[0m\u001b[0m\n\u001b[0m\u001b[1;32m      3\u001b[0m \u001b[0maligned_structure\u001b[0m\u001b[0;34m.\u001b[0m\u001b[0msave\u001b[0m\u001b[0;34m(\u001b[0m\u001b[0;34m\"complex/aligned.rst7\"\u001b[0m\u001b[0;34m)\u001b[0m\u001b[0;34m\u001b[0m\u001b[0m\n",
      "\u001b[0;32m~/data/applications/anaconda3/lib/python3.6/site-packages/parmed/structure.py\u001b[0m in \u001b[0;36msave\u001b[0;34m(self, fname, format, overwrite, **kwargs)\u001b[0m\n\u001b[1;32m   1476\u001b[0m         \u001b[0;32mif\u001b[0m \u001b[0;32mnot\u001b[0m \u001b[0mhasattr\u001b[0m\u001b[0;34m(\u001b[0m\u001b[0mfname\u001b[0m\u001b[0;34m,\u001b[0m \u001b[0;34m'write'\u001b[0m\u001b[0;34m)\u001b[0m\u001b[0;34m:\u001b[0m\u001b[0;34m\u001b[0m\u001b[0m\n\u001b[1;32m   1477\u001b[0m             \u001b[0;32mif\u001b[0m \u001b[0mos\u001b[0m\u001b[0;34m.\u001b[0m\u001b[0mpath\u001b[0m\u001b[0;34m.\u001b[0m\u001b[0mexists\u001b[0m\u001b[0;34m(\u001b[0m\u001b[0mfname\u001b[0m\u001b[0;34m)\u001b[0m \u001b[0;32mand\u001b[0m \u001b[0;32mnot\u001b[0m \u001b[0moverwrite\u001b[0m\u001b[0;34m:\u001b[0m\u001b[0;34m\u001b[0m\u001b[0m\n\u001b[0;32m-> 1478\u001b[0;31m                 \u001b[0;32mraise\u001b[0m \u001b[0mIOError\u001b[0m\u001b[0;34m(\u001b[0m\u001b[0;34m'%s exists; not overwriting'\u001b[0m \u001b[0;34m%\u001b[0m \u001b[0mfname\u001b[0m\u001b[0;34m)\u001b[0m\u001b[0;34m\u001b[0m\u001b[0m\n\u001b[0m\u001b[1;32m   1479\u001b[0m         \u001b[0;32melse\u001b[0m\u001b[0;34m:\u001b[0m\u001b[0;34m\u001b[0m\u001b[0m\n\u001b[1;32m   1480\u001b[0m             \u001b[0;32mif\u001b[0m \u001b[0mformat\u001b[0m \u001b[0;32mis\u001b[0m \u001b[0;32mNone\u001b[0m\u001b[0;34m:\u001b[0m\u001b[0;34m\u001b[0m\u001b[0m\n",
      "\u001b[0;31mOSError\u001b[0m: complex/aligned.prmtop exists; not overwriting"
     ]
    }
   ],
   "source": [
    "aligned_structure = align.zalign(structure, G1, G2)\n",
    "aligned_structure.save(\"complex/aligned.prmtop\")\n",
    "aligned_structure.save(\"complex/aligned.rst7\")"
   ]
  },
  {
   "cell_type": "markdown",
   "metadata": {},
   "source": [
    "Here, the origin is shown as a grey sphere, with the $z$ axis drawn as a blue arrow. The coordinates used for this example were already aligned, so Python warns that the cross product is zero, but this won't be the case in general.\n",
    "\n",
    "![](images/aligned.png)"
   ]
  },
  {
   "cell_type": "markdown",
   "metadata": {},
   "source": [
    "Next, we add the dummy atoms. The dummy atoms will be fixed in place during the simulation and are used to orient the host and guest in the lab frame. The dummy atoms are placed along the $z$ axis, behind the host. The dummy atoms are used in distance, angle, and torsion restraints and therefore, the exact positioning of these atoms affects the value of those restraints. For a typical host-guest system, like the one here, we generally place the first dummy atom 6 Angstroms behind the origin, the second dummy atom 9 Angstroms behind the origin, and the third dummy atom 11.2 Angstroms behind the origin and offset about 2.2 Angstroms along the $y$ axis. After we add restraints, the positioning of the dummy atoms should be more clear.\n",
    "\n",
    "Note, these dummy atoms do not interact with the other atoms in the system, and therefore, there is no problem placing them near host atoms."
   ]
  },
  {
   "cell_type": "markdown",
   "metadata": {},
   "source": [
    "### Add dummy atoms"
   ]
  },
  {
   "cell_type": "code",
   "execution_count": 98,
   "metadata": {},
   "outputs": [],
   "source": [
    "from paprika import dummy"
   ]
  },
  {
   "cell_type": "code",
   "execution_count": 99,
   "metadata": {},
   "outputs": [
    {
     "name": "stdout",
     "output_type": "stream",
     "text": [
      "Using the slow `prmtop` reader! -DRS\n"
     ]
    }
   ],
   "source": [
    "structure = pmd.load_file(\"complex/aligned.prmtop\",\n",
    "                          \"complex/aligned.rst7\",\n",
    "                          structure=True)"
   ]
  },
  {
   "cell_type": "code",
   "execution_count": 100,
   "metadata": {},
   "outputs": [],
   "source": [
    "structure = dummy.add_dummy(structure, residue_name=\"DM1\", z=-6.0)\n",
    "structure = dummy.add_dummy(structure, residue_name=\"DM2\", z=-9.0)\n",
    "structure = dummy.add_dummy(structure, residue_name=\"DM3\", z=-11.2, y=2.2)"
   ]
  },
  {
   "cell_type": "code",
   "execution_count": 101,
   "metadata": {},
   "outputs": [
    {
     "ename": "OSError",
     "evalue": "complex/aligned_with_dummy.prmtop exists; not overwriting",
     "output_type": "error",
     "traceback": [
      "\u001b[0;31m---------------------------------------------------------------------------\u001b[0m",
      "\u001b[0;31mOSError\u001b[0m                                   Traceback (most recent call last)",
      "\u001b[0;32m<ipython-input-101-94142aba5d50>\u001b[0m in \u001b[0;36m<module>\u001b[0;34m()\u001b[0m\n\u001b[0;32m----> 1\u001b[0;31m \u001b[0mstructure\u001b[0m\u001b[0;34m.\u001b[0m\u001b[0msave\u001b[0m\u001b[0;34m(\u001b[0m\u001b[0;34m\"complex/aligned_with_dummy.prmtop\"\u001b[0m\u001b[0;34m)\u001b[0m\u001b[0;34m\u001b[0m\u001b[0m\n\u001b[0m\u001b[1;32m      2\u001b[0m \u001b[0mstructure\u001b[0m\u001b[0;34m.\u001b[0m\u001b[0msave\u001b[0m\u001b[0;34m(\u001b[0m\u001b[0;34m\"complex/aligned_with_dummy.rst7\"\u001b[0m\u001b[0;34m)\u001b[0m\u001b[0;34m\u001b[0m\u001b[0m\n\u001b[1;32m      3\u001b[0m \u001b[0mstructure\u001b[0m\u001b[0;34m.\u001b[0m\u001b[0msave\u001b[0m\u001b[0;34m(\u001b[0m\u001b[0;34m\"complex/aligned_with_dummy.pdb\"\u001b[0m\u001b[0;34m)\u001b[0m\u001b[0;34m\u001b[0m\u001b[0m\n",
      "\u001b[0;32m~/data/applications/anaconda3/lib/python3.6/site-packages/parmed/structure.py\u001b[0m in \u001b[0;36msave\u001b[0;34m(self, fname, format, overwrite, **kwargs)\u001b[0m\n\u001b[1;32m   1476\u001b[0m         \u001b[0;32mif\u001b[0m \u001b[0;32mnot\u001b[0m \u001b[0mhasattr\u001b[0m\u001b[0;34m(\u001b[0m\u001b[0mfname\u001b[0m\u001b[0;34m,\u001b[0m \u001b[0;34m'write'\u001b[0m\u001b[0;34m)\u001b[0m\u001b[0;34m:\u001b[0m\u001b[0;34m\u001b[0m\u001b[0m\n\u001b[1;32m   1477\u001b[0m             \u001b[0;32mif\u001b[0m \u001b[0mos\u001b[0m\u001b[0;34m.\u001b[0m\u001b[0mpath\u001b[0m\u001b[0;34m.\u001b[0m\u001b[0mexists\u001b[0m\u001b[0;34m(\u001b[0m\u001b[0mfname\u001b[0m\u001b[0;34m)\u001b[0m \u001b[0;32mand\u001b[0m \u001b[0;32mnot\u001b[0m \u001b[0moverwrite\u001b[0m\u001b[0;34m:\u001b[0m\u001b[0;34m\u001b[0m\u001b[0m\n\u001b[0;32m-> 1478\u001b[0;31m                 \u001b[0;32mraise\u001b[0m \u001b[0mIOError\u001b[0m\u001b[0;34m(\u001b[0m\u001b[0;34m'%s exists; not overwriting'\u001b[0m \u001b[0;34m%\u001b[0m \u001b[0mfname\u001b[0m\u001b[0;34m)\u001b[0m\u001b[0;34m\u001b[0m\u001b[0m\n\u001b[0m\u001b[1;32m   1479\u001b[0m         \u001b[0;32melse\u001b[0m\u001b[0;34m:\u001b[0m\u001b[0;34m\u001b[0m\u001b[0m\n\u001b[1;32m   1480\u001b[0m             \u001b[0;32mif\u001b[0m \u001b[0mformat\u001b[0m \u001b[0;32mis\u001b[0m \u001b[0;32mNone\u001b[0m\u001b[0;34m:\u001b[0m\u001b[0;34m\u001b[0m\u001b[0m\n",
      "\u001b[0;31mOSError\u001b[0m: complex/aligned_with_dummy.prmtop exists; not overwriting"
     ]
    }
   ],
   "source": [
    "structure.save(\"complex/aligned_with_dummy.prmtop\")\n",
    "structure.save(\"complex/aligned_with_dummy.rst7\")\n",
    "structure.save(\"complex/aligned_with_dummy.pdb\")"
   ]
  },
  {
   "cell_type": "markdown",
   "metadata": {},
   "source": [
    "![](images/aligned_with_dummy.png)"
   ]
  },
  {
   "cell_type": "markdown",
   "metadata": {},
   "source": [
    "When we solvate the system in `tleap`, we will need `frcmod` files for the dummy atoms (otherwise `tleap` will use GAFF parameters and the dummy atoms will *not* be non-interacting). There is a convenient method in `paprika` to write a `frcmod` file that only contains a `MASS` section. For convenience, I am also going to write `mol2` files for each of the dummy atoms. This makes it easy to build up the system, piece-by-piece, if we have a separate `mol2` file for each component of the system: host, guest, dummy atoms.\n",
    "\n",
    "In principle, an APR calculate can be completed without dummy atoms, by simply lengthening the distance between the host and guest, but the addition of dummy atoms permits an easier way to think about dissociating the guest from the host. (Also, in the absence of dummy atoms, it is challenging to pull the guest straight out of the cavity without adding additional restraints.)"
   ]
  },
  {
   "cell_type": "code",
   "execution_count": 102,
   "metadata": {},
   "outputs": [],
   "source": [
    "dummy.write_dummy_frcmod(filepath=\"complex/dummy.frcmod\")\n",
    "dummy.write_dummy_mol2(residue_name=\"DM1\", filepath=\"complex/dm1.mol2\")\n",
    "dummy.write_dummy_mol2(residue_name=\"DM2\", filepath=\"complex/dm2.mol2\")\n",
    "dummy.write_dummy_mol2(residue_name=\"DM3\", filepath=\"complex/dm3.mol2\")"
   ]
  },
  {
   "cell_type": "markdown",
   "metadata": {},
   "source": [
    "Now all the pieces are in place to build the system for an APR calculation."
   ]
  },
  {
   "cell_type": "markdown",
   "metadata": {},
   "source": [
    "### Put it all together"
   ]
  },
  {
   "cell_type": "code",
   "execution_count": 103,
   "metadata": {},
   "outputs": [],
   "source": [
    "system = tleap.System()\n",
    "system.output_path = \"complex\"\n",
    "system.pbc_type = None\n",
    "system.neutralize = False\n",
    "\n",
    "system.template_lines = [\n",
    "\"source leaprc.gaff\",\n",
    "\"loadamberparams cb6.frcmod\",\n",
    "\"loadamberparams dummy.frcmod\",\n",
    "\"CB6 = loadmol2 cb6.mol2\",\n",
    "\"BUT = loadmol2 but.mol2\",\n",
    "\"DM1 = loadmol2 dm1.mol2\",\n",
    "\"DM2 = loadmol2 dm2.mol2\",\n",
    "\"DM3 = loadmol2 dm3.mol2\",\n",
    "\"model = loadpdb aligned_with_dummy.pdb\",\n",
    "\"check model\",\n",
    "\"savepdb model cb6-but-dum.pdb\",\n",
    "\"saveamberparm model cb6-but-dum.prmtop cb6-but-dum.rst7\"\n",
    "]\n",
    "\n",
    "system.build()"
   ]
  },
  {
   "cell_type": "markdown",
   "metadata": {},
   "source": [
    "Now we have AMBER coordinates and parameters for the `cb6-but` system with dummy atoms in the appropriate place and with the proper \"dummy\" parametesr."
   ]
  },
  {
   "cell_type": "markdown",
   "metadata": {},
   "source": [
    "![](images/anchor-atoms-diagram2.png)"
   ]
  },
  {
   "cell_type": "markdown",
   "metadata": {},
   "source": [
    "## Determine the number of windows\n",
    "\n",
    "Before we add the restraints, it is helpful to set the $\\lambda$ fractions that control the strength of the force constants during attach and release, and to define the distances for the pulling phase.\n",
    "\n",
    "The attach fractions go from 0 to 1 and we place more points at the bottom of the range to sample the curvature of $dU/d \\lambda$. Next, we generally apply a distance restraint until the guest is ~18 Angstroms away from the host, in increments of 0.4 Angstroms. This distance should be at least twice the Lennard-Jones cutoff in the system. These values have worked well for us, but this is one aspect that should be carefully checked for new systems."
   ]
  },
  {
   "cell_type": "code",
   "execution_count": 15,
   "metadata": {},
   "outputs": [],
   "source": [
    "attach_string = \"0.00 0.40 0.80 1.60 2.40 4.00 5.50 8.65 11.80 18.10 24.40 37.00 49.60 74.80 100.00\"\n",
    "attach_fractions = [float(i) / 100 for i in attach_string.split()]"
   ]
  },
  {
   "cell_type": "code",
   "execution_count": 105,
   "metadata": {},
   "outputs": [],
   "source": [
    "import numpy as np\n",
    "initial_distance = 6.0\n",
    "pull_distances = np.arange(0.0 + initial_distance, 18.0 + initial_distance, 1.0)"
   ]
  },
  {
   "cell_type": "markdown",
   "metadata": {},
   "source": [
    "These values will be used to measure distance relative to the first dummy atom, hence the addition of `6.00`."
   ]
  },
  {
   "cell_type": "code",
   "execution_count": 106,
   "metadata": {},
   "outputs": [],
   "source": [
    "release_fractions = attach_fractions[::-1]"
   ]
  },
  {
   "cell_type": "code",
   "execution_count": 107,
   "metadata": {},
   "outputs": [
    {
     "name": "stdout",
     "output_type": "stream",
     "text": [
      "There are [15, 18, 15] windows in this attach-pull-release calculation.\n"
     ]
    }
   ],
   "source": [
    "windows = [len(attach_fractions), len(pull_distances), len(release_fractions)]\n",
    "print(f\"There are {windows} windows in this attach-pull-release calculation.\")"
   ]
  },
  {
   "cell_type": "markdown",
   "metadata": {},
   "source": [
    "Alternatively, we could specify the number of windows for each phase and the force constants and targets will be linearly interpolated. Other ways of specifying these values are documented in the code."
   ]
  },
  {
   "cell_type": "markdown",
   "metadata": {},
   "source": [
    "## Add restraints using pAPRika\n",
    "\n",
    "`pAPRika` supports four different types of restraints:\n",
    "\n",
    "\n",
    "- Static restraints: these six restraints keep the host and in the proper orientation during the simulation (necessary),\n",
    "- Guest restraints: these restraints pull the guest away from the host along the $z$ axis (necessary),\n",
    "- Conformational restraints: these restraints alter the conformational sampling of the host molecule (optional), and\n",
    "- Wall restraints: these restraints help define the bound state of the guest (optional).\n",
    "\n",
    "More information on these restraints can be found in:\n",
    "\n",
    "Henriksen, N.M., Fenley, A.T., and Gilson, M.K. (2015). Computational Calorimetry: High-Precision Calculation of Host-Guest Binding Thermodynamics. J. Chem. Theory Comput. 11, 4377–4394. [DOI](http://doi.org/10.1021/acs.jctc.5b00405)\n",
    "\n",
    "In this example, I will show how to setup the static restraints and the guest restraints.\n",
    "\n",
    "We have already added the dummy atoms and we have already defined the guest anchor atoms. Now we need to define the host anchor atoms (H1, H2, and H3) in the above diagram. The host anchors should be heavy atoms distributed around the cavity (and around the pulling axis). One caveat is that the host anchors should be rigid relative to each other, so conformational restraints do not shift the alignment of the pulling axis relative to the solvation box. For CB6, I have chosen carbons around the central ridge."
   ]
  },
  {
   "cell_type": "code",
   "execution_count": 108,
   "metadata": {},
   "outputs": [],
   "source": [
    "H1 = \":CB6@C\"\n",
    "H2 = \":CB6@C31\"\n",
    "H3 = \":CB6@C18\""
   ]
  },
  {
   "cell_type": "markdown",
   "metadata": {},
   "source": [
    "I'll also make a shorthand for the dummy atoms."
   ]
  },
  {
   "cell_type": "code",
   "execution_count": 109,
   "metadata": {},
   "outputs": [],
   "source": [
    "D1 = \":DM1\"\n",
    "D2 = \":DM2\"\n",
    "D3 = \":DM3\""
   ]
  },
  {
   "cell_type": "markdown",
   "metadata": {},
   "source": [
    "### Static restraints\n",
    "\n",
    "These harmonic restraints are constant throughout the entire simulation. These restraints are used to control the distances and angles between the host and guest relative to the dummy atom. We have created a special class for these restrains, `static_DAT_restraint`, that uses the initial value as the restraint target (this is why the starting structure should be a reasonable facsimile of the bound state).\n",
    "\n",
    "Note that these restraints are not \"attached\" and they don't need to be \"released\" -- their force constants do not change in magnitude.\n",
    "\n",
    "The first three static restraints affect the translational distance, angle, and torsion angle between the host and the dummy atoms. These control the position of the host, via the first anchor atom, from moving relative to the dummy atoms.\n",
    "\n",
    "There is no *correct* value for the force constants. From experience, we know that a distance force constant of 5.0 kcal/mol/Angstrom$^2$ won't nail down the host and yet it also won't wander away. Likewise, we have had good results using 100.0 kcal/mol/radian$^2$ for the angle force constant."
   ]
  },
  {
   "cell_type": "markdown",
   "metadata": {},
   "source": [
    "![](images/static-restraints-1.png)"
   ]
  },
  {
   "cell_type": "code",
   "execution_count": 110,
   "metadata": {},
   "outputs": [],
   "source": [
    "from paprika import restraints\n",
    "static_restraints = []"
   ]
  },
  {
   "cell_type": "code",
   "execution_count": 111,
   "metadata": {},
   "outputs": [
    {
     "name": "stdout",
     "output_type": "stream",
     "text": [
      "Using the slow `prmtop` reader! -DRS\n"
     ]
    }
   ],
   "source": [
    "structure = pmd.load_file(\"complex/cb6-but-dum.prmtop\",\n",
    "                          \"complex/cb6-but-dum.rst7\",\n",
    "                          structure = True\n",
    "                          )"
   ]
  },
  {
   "cell_type": "code",
   "execution_count": 112,
   "metadata": {},
   "outputs": [],
   "source": [
    "r = restraints.static_DAT_restraint(restraint_mask_list = [D1, H1],\n",
    "                                    num_window_list = windows,\n",
    "                                    ref_structure = structure,\n",
    "                                    force_constant = 5.0,\n",
    "                                    amber_index=True)\n",
    "\n",
    "static_restraints.append(r)"
   ]
  },
  {
   "cell_type": "code",
   "execution_count": 113,
   "metadata": {},
   "outputs": [],
   "source": [
    "r = restraints.static_DAT_restraint(restraint_mask_list = [D2, D1, H1],\n",
    "                                    num_window_list = windows,\n",
    "                                    ref_structure = structure,\n",
    "                                    force_constant = 100.0,\n",
    "                                    amber_index=True)\n",
    "\n",
    "static_restraints.append(r)"
   ]
  },
  {
   "cell_type": "code",
   "execution_count": 114,
   "metadata": {},
   "outputs": [],
   "source": [
    "r = restraints.static_DAT_restraint(restraint_mask_list = [D3, D2, D1, H1],\n",
    "                                    num_window_list = windows,\n",
    "                                    ref_structure = structure,\n",
    "                                    force_constant = 100.0,\n",
    "                                    amber_index=True)\n",
    "\n",
    "static_restraints.append(r)"
   ]
  },
  {
   "cell_type": "markdown",
   "metadata": {},
   "source": [
    "The next three restraints control the orientation of the host relative to the dummy atoms. These angle and torsion restraints prevent the host from rotating relative to the dummy atoms."
   ]
  },
  {
   "cell_type": "markdown",
   "metadata": {},
   "source": [
    "![](images/static-restraints-2.png)"
   ]
  },
  {
   "cell_type": "code",
   "execution_count": 115,
   "metadata": {},
   "outputs": [],
   "source": [
    "r = restraints.static_DAT_restraint(restraint_mask_list = [D1, H1, H2],\n",
    "                                    num_window_list = windows,\n",
    "                                    ref_structure = structure,\n",
    "                                    force_constant = 100.0,\n",
    "                                    amber_index=True)\n",
    "\n",
    "static_restraints.append(r)"
   ]
  },
  {
   "cell_type": "code",
   "execution_count": 116,
   "metadata": {},
   "outputs": [],
   "source": [
    "r = restraints.static_DAT_restraint(restraint_mask_list = [D2, D1, H1, H2],\n",
    "                                    num_window_list = windows,\n",
    "                                    ref_structure = structure,\n",
    "                                    force_constant = 100.0,\n",
    "                                    amber_index=True)\n",
    "\n",
    "static_restraints.append(r)"
   ]
  },
  {
   "cell_type": "code",
   "execution_count": 117,
   "metadata": {},
   "outputs": [],
   "source": [
    "r = restraints.static_DAT_restraint(restraint_mask_list = [D1, H1, H2, H3],\n",
    "                                    num_window_list = windows,\n",
    "                                    ref_structure = structure,\n",
    "                                    force_constant = 100.0,\n",
    "                                    amber_index=True)\n",
    "\n",
    "static_restraints.append(r)"
   ]
  },
  {
   "cell_type": "markdown",
   "metadata": {},
   "source": [
    "Next, we add restraints on the guest. These restraints control the position of the guest and are the key to the attach-pull-release method. During the attach phase, the *force constants* for these restraints is increased from zero. During the pull phase, the *target* for the distance restraint is increased (in the orange box, below), translating the guest away from the host cavity. And during the release phase, the *force constants* are reduced from their \"full\" value back down to zero.\n",
    "\n",
    "![](images/guest-restraints.png)\n",
    "\n",
    "We use the class `DAT_restraint` to create these three restraints. We will use the same anchor atoms as before, with the same distance and angle force constants. Note that unlike `static_DAT_restraint`, we will first create the restraint, *then* set the attributes, *then* initialize the restraint which does some checks to make sure everything is copacetic.\n",
    "\n",
    "There are two additional convenience options here:\n",
    "\n",
    "- `auto_apr = True` sets the force constant during pull to be the final force constant after attach and sets the initial restraint target during pull to be the final attach target.\n",
    "\n",
    "- `continuous_apr = True` sets the last window of attach to be the same as the first window as pull (and likewise for release)\n",
    "\n",
    "Also note, due to a quirk with AMBER, we specifcy angle and torsion targets in degrees but the force constant using radians!"
   ]
  },
  {
   "cell_type": "code",
   "execution_count": 118,
   "metadata": {},
   "outputs": [],
   "source": [
    "guest_restraints = []"
   ]
  },
  {
   "cell_type": "code",
   "execution_count": 119,
   "metadata": {},
   "outputs": [],
   "source": [
    "r = restraints.DAT_restraint()\n",
    "r.mask1 = D1\n",
    "r.mask2 = G1\n",
    "r.topology = structure\n",
    "r.auto_apr = True\n",
    "r.continuous_apr = True\n",
    "\n",
    "r.attach[\"target\"] = 6.0                            # Angstroms\n",
    "r.attach[\"fraction_list\"] = attach_fractions\n",
    "r.attach[\"fc_final\"] = 5.0                          # kcal/mol/Angstroms**2\n",
    "\n",
    "r.pull[\"target_final\"] = 24.0                       # Angstroms\n",
    "r.pull[\"num_windows\"] = windows[1]\n",
    "\n",
    "r.release[\"target\"] = 6.0                           # Angstroms\n",
    "r.release[\"fraction_list\"] = attach_fractions[::-1]\n",
    "r.release[\"fc_final\"] = 5.0\n",
    "\n",
    "r.initialize()\n",
    "guest_restraints.append(r)"
   ]
  },
  {
   "cell_type": "code",
   "execution_count": 120,
   "metadata": {},
   "outputs": [],
   "source": [
    "r = restraints.DAT_restraint()\n",
    "r.mask1 = D2\n",
    "r.mask3 = D1\n",
    "r.mask2 = G1\n",
    "r.topology = structure\n",
    "r.auto_apr = True\n",
    "r.continuous_apr = True\n",
    "\n",
    "r.attach[\"target\"] = 180.0                          # Degrees\n",
    "r.attach[\"fraction_list\"] = attach_fractions\n",
    "r.attach[\"fc_final\"] = 100.0                        # kcal/mol/radian**2\n",
    "\n",
    "r.pull[\"target_final\"] = 180.0                      # Degrees\n",
    "r.pull[\"num_windows\"] = windows[1]\n",
    "\n",
    "r.release[\"target\"] = 180.0                         # Degrees\n",
    "r.release[\"fraction_list\"] = attach_fractions[::-1]\n",
    "r.release[\"fc_final\"] = 100.0                       # kcal/mol/radian**2\n",
    "\n",
    "r.initialize()\n",
    "guest_restraints.append(r)"
   ]
  },
  {
   "cell_type": "code",
   "execution_count": 121,
   "metadata": {},
   "outputs": [],
   "source": [
    "r = restraints.DAT_restraint()\n",
    "r.mask1 = D1\n",
    "r.mask2 = G1\n",
    "r.mask3 = G2\n",
    "r.topology = structure\n",
    "r.auto_apr = True\n",
    "r.continuous_apr = True\n",
    "\n",
    "r.attach[\"target\"] = 180.0                          # Degrees\n",
    "r.attach[\"fraction_list\"] = attach_fractions\n",
    "r.attach[\"fc_final\"] = 100.0                        # kcal/mol/radian**2\n",
    "\n",
    "r.pull[\"target_final\"] = 180.0                      # Degrees\n",
    "r.pull[\"num_windows\"] = windows[1]\n",
    "\n",
    "r.release[\"target\"] = 180.0                         # Degrees\n",
    "r.release[\"fraction_list\"] = attach_fractions[::-1]\n",
    "r.release[\"fc_final\"] = 100.0                       # kcal/mol/radian**2\n",
    "\n",
    "r.initialize()\n",
    "guest_restraints.append(r)"
   ]
  },
  {
   "cell_type": "markdown",
   "metadata": {},
   "source": [
    "## Create the directory structure\n",
    "\n",
    "We use the guest restraints to create a list of windows with the appropriate names and then we create the directories."
   ]
  },
  {
   "cell_type": "code",
   "execution_count": 122,
   "metadata": {},
   "outputs": [],
   "source": [
    "import os\n",
    "\n",
    "window_list = restraints.create_window_list(guest_restraints)\n",
    "for window in window_list:\n",
    "    os.makedirs(f\"windows/{window}\")"
   ]
  },
  {
   "cell_type": "markdown",
   "metadata": {},
   "source": [
    "## Next, we ask pAPRika to write the restraint information in each window"
   ]
  },
  {
   "cell_type": "markdown",
   "metadata": {},
   "source": [
    "In each window, we create a file named `disang.rest` to hold all of the restraint information that is required to run the simulation with AMBER. We feed the list of restraints to pAPRika, one by one, and it returns the appropriate line.\n",
    "\n",
    "The functional form of the restraints is specified in section 25.1 of the AMBER18 manual. Specifically, these restraints have a square bottom with parabolic sides out to a specific distance and then linear sides beyond that. The square bottom can be eliminated by setting `r2=r3` and the linear extension can be eliminated by setting the the `r4 = 999` and `r1 = 0`, creating a harmonic restraint "
   ]
  },
  {
   "cell_type": "code",
   "execution_count": 123,
   "metadata": {},
   "outputs": [],
   "source": [
    "host_guest_restraints = static_restraints + guest_restraints\n",
    "for window in window_list:\n",
    "    with open(f\"windows/{window}/disang.rest\", \"a\") as file:\n",
    "        for restraint in host_guest_restraints:\n",
    "            string = restraints.amber_restraint_line(restraint, window)\n",
    "            if string is not None:\n",
    "                file.write(string)"
   ]
  },
  {
   "cell_type": "markdown",
   "metadata": {},
   "source": [
    "It is a good idea to open up the `disang.rest` files and see that the force constants and targets make sense (and there are no `NaN` values). Do the force constants for the guest restraints start at zero? Do the targets for the pull slowly increase?"
   ]
  },
  {
   "cell_type": "markdown",
   "metadata": {},
   "source": [
    "## Create the coordinates for each window\n",
    "\n",
    "### Translation of the guest (before solvation)\n",
    "\n",
    "For the attach windows, we will use the initial, bound coordinates for the host-guest complex. Only the force constants change during this phase, so a single set of coordinates is sufficient. For the pull windows, we will translate the guest to the target value of the restraint before solvation, and for the release windows, we will use the coordinates from the final pull window."
   ]
  },
  {
   "cell_type": "code",
   "execution_count": 124,
   "metadata": {},
   "outputs": [
    {
     "name": "stdout",
     "output_type": "stream",
     "text": [
      "Using the slow `prmtop` reader! -DRS\n",
      "In window p000 we will translate the guest 0.0 Angstroms.\n",
      "Using the slow `prmtop` reader! -DRS\n",
      "In window p001 we will translate the guest 1.1 Angstroms.\n",
      "Using the slow `prmtop` reader! -DRS\n",
      "In window p002 we will translate the guest 2.1 Angstroms.\n",
      "Using the slow `prmtop` reader! -DRS\n",
      "In window p003 we will translate the guest 3.2 Angstroms.\n",
      "Using the slow `prmtop` reader! -DRS\n",
      "In window p004 we will translate the guest 4.2 Angstroms.\n",
      "Using the slow `prmtop` reader! -DRS\n",
      "In window p005 we will translate the guest 5.3 Angstroms.\n",
      "Using the slow `prmtop` reader! -DRS\n",
      "In window p006 we will translate the guest 6.4 Angstroms.\n",
      "Using the slow `prmtop` reader! -DRS\n",
      "In window p007 we will translate the guest 7.4 Angstroms.\n",
      "Using the slow `prmtop` reader! -DRS\n",
      "In window p008 we will translate the guest 8.5 Angstroms.\n",
      "Using the slow `prmtop` reader! -DRS\n",
      "In window p009 we will translate the guest 9.5 Angstroms.\n",
      "Using the slow `prmtop` reader! -DRS\n",
      "In window p010 we will translate the guest 10.6 Angstroms.\n",
      "Using the slow `prmtop` reader! -DRS\n",
      "In window p011 we will translate the guest 11.6 Angstroms.\n",
      "Using the slow `prmtop` reader! -DRS\n",
      "In window p012 we will translate the guest 12.7 Angstroms.\n",
      "Using the slow `prmtop` reader! -DRS\n",
      "In window p013 we will translate the guest 13.8 Angstroms.\n",
      "Using the slow `prmtop` reader! -DRS\n",
      "In window p014 we will translate the guest 14.8 Angstroms.\n",
      "Using the slow `prmtop` reader! -DRS\n",
      "In window p015 we will translate the guest 15.9 Angstroms.\n",
      "Using the slow `prmtop` reader! -DRS\n",
      "In window p016 we will translate the guest 16.9 Angstroms.\n",
      "Using the slow `prmtop` reader! -DRS\n",
      "In window p017 we will translate the guest 18.0 Angstroms.\n"
     ]
    }
   ],
   "source": [
    "import shutil\n",
    "\n",
    "for window in window_list:\n",
    "    if window[0] == \"a\":\n",
    "        shutil.copy(\"complex/cb6-but-dum.prmtop\", f\"windows/{window}/cb6-but-dum.prmtop\")\n",
    "        shutil.copy(\"complex/cb6-but-dum.rst7\", f\"windows/{window}/cb6-but-dum.rst7\")\n",
    "    elif window[0] == \"p\":\n",
    "        structure = pmd.load_file(\"complex/cb6-but-dum.prmtop\", \"complex/cb6-but-dum.rst7\",\n",
    "                          structure = True)\n",
    "        target_difference = guest_restraints[0].phase['pull']['targets'][int(window[1:])] - guest_restraints[0].pull['target_initial']\n",
    "        print(f\"In window {window} we will translate the guest {target_difference:0.1f} Angstroms.\")\n",
    "        for atom in structure.atoms:\n",
    "            if atom.residue.name == \"BUT\":\n",
    "                atom.xz += target_difference\n",
    "        structure.save(f\"windows/{window}/cb6-but-dum.prmtop\")\n",
    "        structure.save(f\"windows/{window}/cb6-but-dum.rst7\")\n",
    "    elif window[0] == \"r\":\n",
    "        shutil.copy(f\"windows/{window_list[windows[0] - 1 + windows[1] - 1]}/cb6-but-dum.prmtop\",\n",
    "                    f\"windows/{window}/cb6-but-dum.prmtop\")\n",
    "        shutil.copy(f\"windows/{window_list[windows[0] - 1 + windows[1] - 1]}/cb6-but-dum.rst7\",\n",
    "                    f\"windows/{window}/cb6-but-dum.rst7\")"
   ]
  },
  {
   "cell_type": "markdown",
   "metadata": {},
   "source": [
    "## Simulate\n",
    "\n",
    "Since we are going to run an implicit solvent simulation, we have everything ready to go. `paprika` has an `amber` module that can help setting default parameters for the simulation. There are some high level options that we set directly, like `simulation.path`, and then we call the function `config_gb_min()` to setup reasonable default simulation parameters for a minimization in the Generalized-Born ensemble. After that, we directly modify the simulation `cntrl` section to apply the positional restraints on the dummy atoms. \n",
    "\n",
    "For this part, you need to have the AMBER executables in your path."
   ]
  },
  {
   "cell_type": "code",
   "execution_count": 125,
   "metadata": {},
   "outputs": [],
   "source": [
    "from paprika import amber"
   ]
  },
  {
   "cell_type": "markdown",
   "metadata": {},
   "source": [
    "Run a quick minimization in every window. Note that we need to specify `simulation.cntrl[\"ntr\"] = 1` to enable the positional restraints on the dummy atoms."
   ]
  },
  {
   "cell_type": "code",
   "execution_count": 126,
   "metadata": {},
   "outputs": [
    {
     "name": "stdout",
     "output_type": "stream",
     "text": [
      "Running minimization in window a000...\n",
      "Running minimization in window a001...\n",
      "Running minimization in window a002...\n",
      "Running minimization in window a003...\n",
      "Running minimization in window a004...\n",
      "Running minimization in window a005...\n",
      "Running minimization in window a006...\n",
      "Running minimization in window a007...\n",
      "Running minimization in window a008...\n",
      "Running minimization in window a009...\n",
      "Running minimization in window a010...\n",
      "Running minimization in window a011...\n",
      "Running minimization in window a012...\n",
      "Running minimization in window a013...\n",
      "Running minimization in window p000...\n",
      "Running minimization in window p001...\n",
      "Running minimization in window p002...\n",
      "Running minimization in window p003...\n",
      "Running minimization in window p004...\n",
      "Running minimization in window p005...\n",
      "Running minimization in window p006...\n",
      "Running minimization in window p007...\n",
      "Running minimization in window p008...\n",
      "Running minimization in window p009...\n",
      "Running minimization in window p010...\n",
      "Running minimization in window p011...\n",
      "Running minimization in window p012...\n",
      "Running minimization in window p013...\n",
      "Running minimization in window p014...\n",
      "Running minimization in window p015...\n",
      "Running minimization in window p016...\n",
      "Running minimization in window p017...\n",
      "Running minimization in window r001...\n",
      "Running minimization in window r002...\n",
      "Running minimization in window r003...\n",
      "Running minimization in window r004...\n",
      "Running minimization in window r005...\n",
      "Running minimization in window r006...\n",
      "Running minimization in window r007...\n",
      "Running minimization in window r008...\n",
      "Running minimization in window r009...\n",
      "Running minimization in window r010...\n",
      "Running minimization in window r011...\n",
      "Running minimization in window r012...\n",
      "Running minimization in window r013...\n",
      "Running minimization in window r014...\n"
     ]
    }
   ],
   "source": [
    "for window in window_list:\n",
    "    simulation = amber.Simulation()\n",
    "\n",
    "    simulation.path = f\"windows/{window}/\"\n",
    "    simulation.prefix = \"minimize\"\n",
    "\n",
    "    simulation.inpcrd = \"cb6-but-dum.rst7\"\n",
    "    simulation.ref = \"cb6-but-dum.rst7\"\n",
    "    simulation.topology = \"cb6-but-dum.prmtop\"\n",
    "    simulation.restraint_file = \"disang.rest\"\n",
    "\n",
    "    simulation.config_gb_min()\n",
    "    simulation.cntrl[\"ntr\"] = 1\n",
    "    simulation.cntrl[\"restraint_wt\"] = 50.0\n",
    "    simulation.cntrl[\"restraintmask\"] = \"'@DUM'\"\n",
    "\n",
    "    print(f\"Running minimization in window {window}...\")\n",
    "    simulation.run()"
   ]
  },
  {
   "cell_type": "code",
   "execution_count": 127,
   "metadata": {},
   "outputs": [],
   "source": [
    "for window in window_list:\n",
    "    simulation = amber.Simulation()\n",
    "    \n",
    "    simulation.executable = \"pmemd.cuda\"\n",
    "    simulation.path = f\"windows/{window}/\"\n",
    "    simulation.prefix = \"production\"\n",
    "\n",
    "    simulation.inpcrd = \"minimize.rst7\"\n",
    "    simulation.ref = \"cb6-but-dum.rst7\"\n",
    "    simulation.topology = \"cb6-but-dum.prmtop\"\n",
    "    simulation.restraint_file = \"disang.rest\"\n",
    "\n",
    "    simulation.config_gb_md()\n",
    "    simulation.cntrl[\"ntr\"] = 1\n",
    "    simulation.cntrl[\"restraint_wt\"] = 50.0\n",
    "    simulation.cntrl[\"restraintmask\"] = \"'@DUM'\"\n",
    "    \n",
    "    simulation.run()"
   ]
  },
  {
   "cell_type": "markdown",
   "metadata": {},
   "source": [
    "## Analysis"
   ]
  },
  {
   "cell_type": "code",
   "execution_count": 128,
   "metadata": {},
   "outputs": [],
   "source": [
    "from paprika import analysis"
   ]
  },
  {
   "cell_type": "code",
   "execution_count": 131,
   "metadata": {},
   "outputs": [],
   "source": [
    "free_energy = analysis.fe_calc()\n",
    "free_energy.prmtop = \"cb6-but-dum.prmtop\"\n",
    "free_energy.trajectory = 'production*.nc'\n",
    "free_energy.path = \"windows\"\n",
    "free_energy.restraint_list = guest_restraints\n",
    "free_energy.collect_data()\n",
    "free_energy.methods = ['ti-block']\n",
    "free_energy.quicker_ti_matrix = True\n",
    "free_energy.bootcycles = 10\n",
    "free_energy.compute_free_energy()"
   ]
  },
  {
   "cell_type": "code",
   "execution_count": 132,
   "metadata": {},
   "outputs": [
    {
     "data": {
      "text/plain": [
       "{'attach': {'ti-block': {'fe': 1161.2987518544644,\n",
       "   'fe_matrix': array([[    0.        ,     3.84243846,     7.74269898, ...,\n",
       "             585.58088058,   898.82806097,  1161.29875185],\n",
       "          [   -3.84243846,     0.        ,     3.86128415, ...,\n",
       "             581.69946575,   894.94664615,  1157.41733703],\n",
       "          [   -7.74269898,    -3.86128415,     0.        , ...,\n",
       "             577.79916552,   891.04634592,  1153.5170368 ],\n",
       "          ...,\n",
       "          [ -585.58088058,  -581.69946575,  -577.79916552, ...,\n",
       "               0.        ,   311.45743622,   573.92812711],\n",
       "          [ -898.82806097,  -894.94664615,  -891.04634592, ...,\n",
       "            -311.45743622,     0.        ,   259.78199229],\n",
       "          [-1161.29875185, -1157.41733703, -1153.5170368 , ...,\n",
       "            -573.92812711,  -259.78199229,     0.        ]]),\n",
       "   'fraction_fe': {1.0: 1161.2987518544644},\n",
       "   'fraction_fe_matrix': {1.0: array([[    0.        ,     3.84243846,     7.74269898, ...,\n",
       "              585.58088058,   898.82806097,  1161.29875185],\n",
       "           [   -3.84243846,     0.        ,     3.86128415, ...,\n",
       "              581.69946575,   894.94664615,  1157.41733703],\n",
       "           [   -7.74269898,    -3.86128415,     0.        , ...,\n",
       "              577.79916552,   891.04634592,  1153.5170368 ],\n",
       "           ...,\n",
       "           [ -585.58088058,  -581.69946575,  -577.79916552, ...,\n",
       "                0.        ,   311.45743622,   573.92812711],\n",
       "           [ -898.82806097,  -894.94664615,  -891.04634592, ...,\n",
       "             -311.45743622,     0.        ,   259.78199229],\n",
       "           [-1161.29875185, -1157.41733703, -1153.5170368 , ...,\n",
       "             -573.92812711,  -259.78199229,     0.        ]])},\n",
       "   'fraction_n_frames': {1.0: 150},\n",
       "   'fraction_sem': {1.0: 32.369975153352776},\n",
       "   'fraction_sem_matrix': {1.0: array([[0.00000000e+00, 7.13462671e-03, 7.97326257e-03, ...,\n",
       "            3.32997085e+01, 3.32536657e+01, 3.23699752e+01],\n",
       "           [7.13462671e-03, 0.00000000e+00, 5.69759571e-03, ...,\n",
       "            3.32955234e+01, 3.32505992e+01, 3.23668340e+01],\n",
       "           [7.97326257e-03, 5.69759571e-03, 0.00000000e+00, ...,\n",
       "            3.32950482e+01, 3.32518267e+01, 3.23677946e+01],\n",
       "           ...,\n",
       "           [3.32997085e+01, 3.32955234e+01, 3.32950482e+01, ...,\n",
       "            0.00000000e+00, 1.60007521e+01, 1.45950649e+01],\n",
       "           [3.32536657e+01, 3.32505992e+01, 3.32518267e+01, ...,\n",
       "            1.60007521e+01, 0.00000000e+00, 1.98562553e+00],\n",
       "           [3.23699752e+01, 3.23668340e+01, 3.23677946e+01, ...,\n",
       "            1.45950649e+01, 1.98562553e+00, 0.00000000e+00]])},\n",
       "   'n_frames': 150,\n",
       "   'sem': 32.369975153352776,\n",
       "   'sem_matrix': array([[0.00000000e+00, 7.13462671e-03, 7.97326257e-03, ...,\n",
       "           3.32997085e+01, 3.32536657e+01, 3.23699752e+01],\n",
       "          [7.13462671e-03, 0.00000000e+00, 5.69759571e-03, ...,\n",
       "           3.32955234e+01, 3.32505992e+01, 3.23668340e+01],\n",
       "          [7.97326257e-03, 5.69759571e-03, 0.00000000e+00, ...,\n",
       "           3.32950482e+01, 3.32518267e+01, 3.23677946e+01],\n",
       "          ...,\n",
       "          [3.32997085e+01, 3.32955234e+01, 3.32950482e+01, ...,\n",
       "           0.00000000e+00, 1.60007521e+01, 1.45950649e+01],\n",
       "          [3.32536657e+01, 3.32505992e+01, 3.32518267e+01, ...,\n",
       "           1.60007521e+01, 0.00000000e+00, 1.98562553e+00],\n",
       "          [3.23699752e+01, 3.23668340e+01, 3.23677946e+01, ...,\n",
       "           1.45950649e+01, 1.98562553e+00, 0.00000000e+00]])},\n",
       "  'window_order': array([ 0,  1,  2, ..., 12, 13, 14])},\n",
       " 'pull': {'ti-block': {'fe': -1950665.391963939,\n",
       "   'fe_matrix': array([[-0.00000000e+00, -2.16462653e+01, -3.56032455e+01, ...,\n",
       "           -1.95046334e+06, -1.95056505e+06, -1.95066539e+06],\n",
       "          [ 2.16462653e+01, -0.00000000e+00, -1.37592348e+01, ...,\n",
       "           -1.95044149e+06, -1.95054320e+06, -1.95064355e+06],\n",
       "          [ 3.56032455e+01,  1.37592348e+01, -0.00000000e+00, ...,\n",
       "           -1.95042766e+06, -1.95052937e+06, -1.95062972e+06],\n",
       "          ...,\n",
       "          [ 1.95046334e+06,  1.95044149e+06,  1.95042766e+06, ...,\n",
       "           -0.00000000e+00, -1.00653955e+02, -2.01000855e+02],\n",
       "          [ 1.95056505e+06,  1.95054320e+06,  1.95052937e+06, ...,\n",
       "            1.00653955e+02, -0.00000000e+00, -9.93685270e+01],\n",
       "          [ 1.95066539e+06,  1.95064355e+06,  1.95062972e+06, ...,\n",
       "            2.01000855e+02,  9.93685270e+01, -0.00000000e+00]]),\n",
       "   'fraction_fe': {1.0: -1950665.391963939},\n",
       "   'fraction_fe_matrix': {1.0: array([[-0.00000000e+00, -2.16462653e+01, -3.56032455e+01, ...,\n",
       "            -1.95046334e+06, -1.95056505e+06, -1.95066539e+06],\n",
       "           [ 2.16462653e+01, -0.00000000e+00, -1.37592348e+01, ...,\n",
       "            -1.95044149e+06, -1.95054320e+06, -1.95064355e+06],\n",
       "           [ 3.56032455e+01,  1.37592348e+01, -0.00000000e+00, ...,\n",
       "            -1.95042766e+06, -1.95052937e+06, -1.95062972e+06],\n",
       "           ...,\n",
       "           [ 1.95046334e+06,  1.95044149e+06,  1.95042766e+06, ...,\n",
       "            -0.00000000e+00, -1.00653955e+02, -2.01000855e+02],\n",
       "           [ 1.95056505e+06,  1.95054320e+06,  1.95052937e+06, ...,\n",
       "             1.00653955e+02, -0.00000000e+00, -9.93685270e+01],\n",
       "           [ 1.95066539e+06,  1.95064355e+06,  1.95062972e+06, ...,\n",
       "             2.01000855e+02,  9.93685270e+01, -0.00000000e+00]])},\n",
       "   'fraction_n_frames': {1.0: 180},\n",
       "   'fraction_sem': {1.0: 572787.08165852},\n",
       "   'fraction_sem_matrix': {1.0: array([[0.00000000e+00, 1.78117579e+00, 2.74279230e+00, ...,\n",
       "            5.72786964e+05, 5.72786918e+05, 5.72787082e+05],\n",
       "           [1.78117579e+00, 0.00000000e+00, 1.20231356e+00, ...,\n",
       "            5.72787309e+05, 5.72787263e+05, 5.72787427e+05],\n",
       "           [2.74279230e+00, 1.20231356e+00, 0.00000000e+00, ...,\n",
       "            5.72787529e+05, 5.72787483e+05, 5.72787646e+05],\n",
       "           ...,\n",
       "           [5.72786964e+05, 5.72787309e+05, 5.72787529e+05, ...,\n",
       "            0.00000000e+00, 8.29826341e+00, 1.84410309e+01],\n",
       "           [5.72786918e+05, 5.72787263e+05, 5.72787483e+05, ...,\n",
       "            8.29826341e+00, 0.00000000e+00, 1.26539163e+01],\n",
       "           [5.72787082e+05, 5.72787427e+05, 5.72787646e+05, ...,\n",
       "            1.84410309e+01, 1.26539163e+01, 0.00000000e+00]])},\n",
       "   'n_frames': 180,\n",
       "   'sem': 572787.08165852,\n",
       "   'sem_matrix': array([[0.00000000e+00, 1.78117579e+00, 2.74279230e+00, ...,\n",
       "           5.72786964e+05, 5.72786918e+05, 5.72787082e+05],\n",
       "          [1.78117579e+00, 0.00000000e+00, 1.20231356e+00, ...,\n",
       "           5.72787309e+05, 5.72787263e+05, 5.72787427e+05],\n",
       "          [2.74279230e+00, 1.20231356e+00, 0.00000000e+00, ...,\n",
       "           5.72787529e+05, 5.72787483e+05, 5.72787646e+05],\n",
       "          ...,\n",
       "          [5.72786964e+05, 5.72787309e+05, 5.72787529e+05, ...,\n",
       "           0.00000000e+00, 8.29826341e+00, 1.84410309e+01],\n",
       "          [5.72786918e+05, 5.72787263e+05, 5.72787483e+05, ...,\n",
       "           8.29826341e+00, 0.00000000e+00, 1.26539163e+01],\n",
       "          [5.72787082e+05, 5.72787427e+05, 5.72787646e+05, ...,\n",
       "           1.84410309e+01, 1.26539163e+01, 0.00000000e+00]])},\n",
       "  'window_order': array([ 0,  1,  2, ..., 15, 16, 17])},\n",
       " 'release': {'ti-block': {'fe': 1845.1405037346492,\n",
       "   'fe_matrix': array([[    0.        ,     6.17725189,    11.93401995, ...,\n",
       "             920.7467115 ,  1397.06362936,  1845.14050373],\n",
       "          [   -6.17725189,     0.        ,     5.69603707, ...,\n",
       "             914.50872862,  1390.82564648,  1838.90252086],\n",
       "          [  -11.93401995,    -5.69603707,     0.        , ...,\n",
       "             908.75706568,  1385.07398355,  1833.15085792],\n",
       "          ...,\n",
       "          [ -920.7467115 ,  -914.50872862,  -908.75706568, ...,\n",
       "               0.        ,   473.82835031,   921.90522468],\n",
       "          [-1397.06362936, -1390.82564648, -1385.07398355, ...,\n",
       "            -473.82835031,     0.        ,   443.47437543],\n",
       "          [-1845.14050373, -1838.90252086, -1833.15085792, ...,\n",
       "            -921.90522468,  -443.47437543,     0.        ]]),\n",
       "   'fraction_fe': {1.0: 1845.1405037346492},\n",
       "   'fraction_fe_matrix': {1.0: array([[    0.        ,     6.17725189,    11.93401995, ...,\n",
       "              920.7467115 ,  1397.06362936,  1845.14050373],\n",
       "           [   -6.17725189,     0.        ,     5.69603707, ...,\n",
       "              914.50872862,  1390.82564648,  1838.90252086],\n",
       "           [  -11.93401995,    -5.69603707,     0.        , ...,\n",
       "              908.75706568,  1385.07398355,  1833.15085792],\n",
       "           ...,\n",
       "           [ -920.7467115 ,  -914.50872862,  -908.75706568, ...,\n",
       "                0.        ,   473.82835031,   921.90522468],\n",
       "           [-1397.06362936, -1390.82564648, -1385.07398355, ...,\n",
       "             -473.82835031,     0.        ,   443.47437543],\n",
       "           [-1845.14050373, -1838.90252086, -1833.15085792, ...,\n",
       "             -921.90522468,  -443.47437543,     0.        ]])},\n",
       "   'fraction_n_frames': {1.0: 150},\n",
       "   'fraction_sem': {1.0: 75.84968520581181},\n",
       "   'fraction_sem_matrix': {1.0: array([[ 0.        ,  0.74991525,  1.48005569, ..., 34.77773736,\n",
       "            54.93388046, 75.84968521],\n",
       "           [ 0.74991525,  0.        ,  0.89958726, ..., 34.70697237,\n",
       "            55.05795775, 76.21595937],\n",
       "           [ 1.48005569,  0.89958726,  0.        , ..., 34.87361993,\n",
       "            55.20013592, 76.57836455],\n",
       "           ...,\n",
       "           [34.77773736, 34.70697237, 34.87361993, ...,  0.        ,\n",
       "            31.7384523 , 64.0869361 ],\n",
       "           [54.93388046, 55.05795775, 55.20013592, ..., 31.7384523 ,\n",
       "             0.        , 47.84941062],\n",
       "           [75.84968521, 76.21595937, 76.57836455, ..., 64.0869361 ,\n",
       "            47.84941062,  0.        ]])},\n",
       "   'n_frames': 150,\n",
       "   'sem': 75.84968520581181,\n",
       "   'sem_matrix': array([[ 0.        ,  0.74991525,  1.48005569, ..., 34.77773736,\n",
       "           54.93388046, 75.84968521],\n",
       "          [ 0.74991525,  0.        ,  0.89958726, ..., 34.70697237,\n",
       "           55.05795775, 76.21595937],\n",
       "          [ 1.48005569,  0.89958726,  0.        , ..., 34.87361993,\n",
       "           55.20013592, 76.57836455],\n",
       "          ...,\n",
       "          [34.77773736, 34.70697237, 34.87361993, ...,  0.        ,\n",
       "           31.7384523 , 64.0869361 ],\n",
       "          [54.93388046, 55.05795775, 55.20013592, ..., 31.7384523 ,\n",
       "            0.        , 47.84941062],\n",
       "          [75.84968521, 76.21595937, 76.57836455, ..., 64.0869361 ,\n",
       "           47.84941062,  0.        ]])},\n",
       "  'window_order': array([14, 13, 12, ...,  2,  1,  0])}}"
      ]
     },
     "execution_count": 132,
     "metadata": {},
     "output_type": "execute_result"
    }
   ],
   "source": [
    "free_energy.results"
   ]
  },
  {
   "cell_type": "code",
   "execution_count": null,
   "metadata": {},
   "outputs": [],
   "source": []
  }
 ],
 "metadata": {
  "kernelspec": {
   "display_name": "Python [default]",
   "language": "python",
   "name": "python3"
  },
  "language_info": {
   "codemirror_mode": {
    "name": "ipython",
    "version": 3
   },
   "file_extension": ".py",
   "mimetype": "text/x-python",
   "name": "python",
   "nbconvert_exporter": "python",
   "pygments_lexer": "ipython3",
   "version": "3.6.4"
  }
 },
 "nbformat": 4,
 "nbformat_minor": 2
}
